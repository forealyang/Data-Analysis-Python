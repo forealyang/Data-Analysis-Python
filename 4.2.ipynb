{
 "cells": [
  {
   "cell_type": "markdown",
   "id": "74f1c25f",
   "metadata": {},
   "source": [
    "Contents \n",
    "1. Import libraries \n",
    "2. 3 different ways to get 100 \n",
    "3. 2 floating-point variables divided by each other \n",
    "4. Short word made of separate strings \n",
    "5. 2 short sentences made of separate strings "
   ]
  },
  {
   "cell_type": "markdown",
   "id": "6d76685d",
   "metadata": {},
   "source": [
    "1. Import libraries"
   ]
  },
  {
   "cell_type": "code",
   "execution_count": 3,
   "id": "bfe81f12",
   "metadata": {},
   "outputs": [],
   "source": [
    "#Import Libraries\n",
    "import pandas as pd\n",
    "import numpy as np\n",
    "import os"
   ]
  },
  {
   "cell_type": "markdown",
   "id": "6eff98f2",
   "metadata": {},
   "source": [
    "##Working with Python Data Types"
   ]
  },
  {
   "cell_type": "markdown",
   "id": "d5e7fc22",
   "metadata": {},
   "source": [
    "2. 3 different ways to get 100 "
   ]
  },
  {
   "cell_type": "code",
   "execution_count": 1,
   "id": "8e7455eb",
   "metadata": {},
   "outputs": [],
   "source": [
    "x=50"
   ]
  },
  {
   "cell_type": "code",
   "execution_count": 3,
   "id": "814ad121",
   "metadata": {},
   "outputs": [
    {
     "data": {
      "text/plain": [
       "100"
      ]
     },
     "execution_count": 3,
     "metadata": {},
     "output_type": "execute_result"
    }
   ],
   "source": [
    "x+x"
   ]
  },
  {
   "cell_type": "code",
   "execution_count": 4,
   "id": "8d1037e3",
   "metadata": {},
   "outputs": [],
   "source": [
    "x=40"
   ]
  },
  {
   "cell_type": "code",
   "execution_count": 5,
   "id": "e64dbd75",
   "metadata": {},
   "outputs": [],
   "source": [
    "y=60"
   ]
  },
  {
   "cell_type": "code",
   "execution_count": 6,
   "id": "407f24f0",
   "metadata": {},
   "outputs": [
    {
     "data": {
      "text/plain": [
       "100"
      ]
     },
     "execution_count": 6,
     "metadata": {},
     "output_type": "execute_result"
    }
   ],
   "source": [
    "x+y"
   ]
  },
  {
   "cell_type": "code",
   "execution_count": 7,
   "id": "5111d60e",
   "metadata": {},
   "outputs": [],
   "source": [
    "x=140"
   ]
  },
  {
   "cell_type": "code",
   "execution_count": 8,
   "id": "39727066",
   "metadata": {},
   "outputs": [
    {
     "data": {
      "text/plain": [
       "100"
      ]
     },
     "execution_count": 8,
     "metadata": {},
     "output_type": "execute_result"
    }
   ],
   "source": [
    "x-40"
   ]
  },
  {
   "cell_type": "code",
   "execution_count": 9,
   "id": "4e898d11",
   "metadata": {},
   "outputs": [],
   "source": [
    "y=40"
   ]
  },
  {
   "cell_type": "code",
   "execution_count": 10,
   "id": "dbb9ad4f",
   "metadata": {},
   "outputs": [
    {
     "data": {
      "text/plain": [
       "100"
      ]
     },
     "execution_count": 10,
     "metadata": {},
     "output_type": "execute_result"
    }
   ],
   "source": [
    "x-y"
   ]
  },
  {
   "cell_type": "markdown",
   "id": "7caeda82",
   "metadata": {},
   "source": [
    "3. 2 floating-point variables divided by each other "
   ]
  },
  {
   "cell_type": "code",
   "execution_count": 11,
   "id": "309bd0fc",
   "metadata": {},
   "outputs": [],
   "source": [
    "x=4.32"
   ]
  },
  {
   "cell_type": "code",
   "execution_count": 12,
   "id": "8365888c",
   "metadata": {},
   "outputs": [],
   "source": [
    "y=5.45"
   ]
  },
  {
   "cell_type": "code",
   "execution_count": 13,
   "id": "cae1ee65",
   "metadata": {},
   "outputs": [
    {
     "data": {
      "text/plain": [
       "0.7926605504587156"
      ]
     },
     "execution_count": 13,
     "metadata": {},
     "output_type": "execute_result"
    }
   ],
   "source": [
    "x/y"
   ]
  },
  {
   "cell_type": "markdown",
   "id": "c0c1b1e5",
   "metadata": {},
   "source": [
    "4. Short word made of separate strings "
   ]
  },
  {
   "cell_type": "code",
   "execution_count": 14,
   "id": "0d48e0fb",
   "metadata": {},
   "outputs": [],
   "source": [
    "a='poly'"
   ]
  },
  {
   "cell_type": "code",
   "execution_count": 15,
   "id": "73024e2e",
   "metadata": {},
   "outputs": [],
   "source": [
    "b='ester'"
   ]
  },
  {
   "cell_type": "code",
   "execution_count": 16,
   "id": "b1c343b6",
   "metadata": {},
   "outputs": [
    {
     "data": {
      "text/plain": [
       "'polyester'"
      ]
     },
     "execution_count": 16,
     "metadata": {},
     "output_type": "execute_result"
    }
   ],
   "source": [
    "a+b"
   ]
  },
  {
   "cell_type": "markdown",
   "id": "5bef5183",
   "metadata": {},
   "source": [
    "5. 2 short sentences made of separate strings "
   ]
  },
  {
   "cell_type": "code",
   "execution_count": 17,
   "id": "87542b43",
   "metadata": {},
   "outputs": [],
   "source": [
    "a='This '"
   ]
  },
  {
   "cell_type": "code",
   "execution_count": 18,
   "id": "f7a7e89b",
   "metadata": {},
   "outputs": [],
   "source": [
    "b='shirt '"
   ]
  },
  {
   "cell_type": "code",
   "execution_count": 19,
   "id": "89c36d5f",
   "metadata": {},
   "outputs": [],
   "source": [
    "c='is made of '"
   ]
  },
  {
   "cell_type": "code",
   "execution_count": 20,
   "id": "9fe7d6f4",
   "metadata": {},
   "outputs": [],
   "source": [
    "d='polyester.'"
   ]
  },
  {
   "cell_type": "code",
   "execution_count": 22,
   "id": "c425a73f",
   "metadata": {},
   "outputs": [
    {
     "data": {
      "text/plain": [
       "'This shirt is made of polyester.'"
      ]
     },
     "execution_count": 22,
     "metadata": {},
     "output_type": "execute_result"
    }
   ],
   "source": [
    "a+b+c+d"
   ]
  },
  {
   "cell_type": "code",
   "execution_count": 23,
   "id": "64227b9d",
   "metadata": {},
   "outputs": [],
   "source": [
    "a='Have'"
   ]
  },
  {
   "cell_type": "code",
   "execution_count": 24,
   "id": "206e2245",
   "metadata": {},
   "outputs": [],
   "source": [
    "b=' a'"
   ]
  },
  {
   "cell_type": "code",
   "execution_count": 29,
   "id": "b1b58ddd",
   "metadata": {},
   "outputs": [],
   "source": [
    "c=' good '"
   ]
  },
  {
   "cell_type": "code",
   "execution_count": 27,
   "id": "dabb046b",
   "metadata": {},
   "outputs": [],
   "source": [
    "d='day!'"
   ]
  },
  {
   "cell_type": "code",
   "execution_count": 28,
   "id": "a3f91271",
   "metadata": {},
   "outputs": [
    {
     "data": {
      "text/plain": [
       "'Have agood day!'"
      ]
     },
     "execution_count": 28,
     "metadata": {},
     "output_type": "execute_result"
    }
   ],
   "source": [
    "a+b+c+d"
   ]
  },
  {
   "cell_type": "code",
   "execution_count": 30,
   "id": "e04c61ba",
   "metadata": {},
   "outputs": [
    {
     "data": {
      "text/plain": [
       "'Have a good day!'"
      ]
     },
     "execution_count": 30,
     "metadata": {},
     "output_type": "execute_result"
    }
   ],
   "source": [
    "a+b+c+d"
   ]
  }
 ],
 "metadata": {
  "kernelspec": {
   "display_name": "Python 3 (ipykernel)",
   "language": "python",
   "name": "python3"
  },
  "language_info": {
   "codemirror_mode": {
    "name": "ipython",
    "version": 3
   },
   "file_extension": ".py",
   "mimetype": "text/x-python",
   "name": "python",
   "nbconvert_exporter": "python",
   "pygments_lexer": "ipython3",
   "version": "3.10.9"
  }
 },
 "nbformat": 4,
 "nbformat_minor": 5
}
